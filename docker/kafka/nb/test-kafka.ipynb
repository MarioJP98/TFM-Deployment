{
 "cells": [
  {
   "cell_type": "code",
   "execution_count": 2,
   "metadata": {},
   "outputs": [],
   "source": [
    "from kafka import KafkaProducer\n",
    "import json"
   ]
  },
  {
   "cell_type": "code",
   "execution_count": 1,
   "metadata": {},
   "outputs": [],
   "source": [
    "\n",
    "producer = KafkaProducer(\n",
    "    bootstrap_servers='localhost:9092',\n",
    "    value_serializer=lambda v: v.encode('utf-8')\n",
    ")\n",
    "producer.send('music-recommendation-features', 'Hello Kafka!')\n",
    "producer.flush()"
   ]
  },
  {
   "cell_type": "code",
   "execution_count": 3,
   "metadata": {},
   "outputs": [
    {
     "name": "stdout",
     "output_type": "stream",
     "text": [
      "✅ Mensaje enviado a Kafka!\n"
     ]
    }
   ],
   "source": [
    "\n",
    "# Inicializamos el productor\n",
    "producer = KafkaProducer(\n",
    "    bootstrap_servers='localhost:9092',\n",
    "    value_serializer=lambda v: json.dumps(v).encode('utf-8')\n",
    ")\n",
    "\n",
    "# Features de ejemplo de la canción\n",
    "features = {\n",
    "    \"track_name\": \"Blinding Lights\",\n",
    "    \"artist\": \"The Weeknd\",\n",
    "    \"tempo\": 171.005,\n",
    "    \"loudness\": -4.999,\n",
    "    \"duration\": 200.512,\n",
    "    \"key\": 1,\n",
    "    \"mode\": 1,\n",
    "    \"time_signature\": 4\n",
    "}\n",
    "\n",
    "# Enviamos al topic\n",
    "producer.send('music-recommendation-features', features)\n",
    "producer.flush()\n",
    "\n",
    "print(\"✅ Mensaje enviado a Kafka!\")\n"
   ]
  },
  {
   "cell_type": "code",
   "execution_count": null,
   "metadata": {},
   "outputs": [],
   "source": []
  }
 ],
 "metadata": {
  "kernelspec": {
   "display_name": "TFM-UNIR",
   "language": "python",
   "name": "python3"
  },
  "language_info": {
   "codemirror_mode": {
    "name": "ipython",
    "version": 3
   },
   "file_extension": ".py",
   "mimetype": "text/x-python",
   "name": "python",
   "nbconvert_exporter": "python",
   "pygments_lexer": "ipython3",
   "version": "3.11.13"
  }
 },
 "nbformat": 4,
 "nbformat_minor": 2
}
